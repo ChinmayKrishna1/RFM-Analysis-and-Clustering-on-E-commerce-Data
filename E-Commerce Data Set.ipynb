{
 "cells": [
  {
   "cell_type": "code",
   "execution_count": null,
   "metadata": {},
   "outputs": [],
   "source": [
    "## OLIST Project - Objective Develop a framework for REF Analysis\n",
    "## Recommender System"
   ]
  },
  {
   "cell_type": "code",
   "execution_count": null,
   "metadata": {},
   "outputs": [],
   "source": [
    "# import the respective libraries required for this project\n",
    "\n",
    "import numpy as np\n",
    "import pandas as pd\n",
    "from datetime import datetime\n",
    "import seaborn as sns\n",
    "import matplotlib.pyplot as plt\n",
    "import plotly.express as px\n",
    "%matplotlib inline"
   ]
  },
  {
   "cell_type": "markdown",
   "metadata": {},
   "source": [
    "## Uploading the data, merging and some setting"
   ]
  },
  {
   "cell_type": "code",
   "execution_count": null,
   "metadata": {},
   "outputs": [],
   "source": [
    "\n",
    "pd.options.display.max_columns = 999"
   ]
  },
  {
   "cell_type": "code",
   "execution_count": null,
   "metadata": {},
   "outputs": [],
   "source": [
    "# uploading data \n",
    "\n",
    "customers = pd.read_csv(\"olist_customers_dataset.csv\")\n",
    "geolocation =pd.read_csv(\"olist_geolocation_dataset.csv\")\n",
    "order_items = pd.read_csv(\"olist_order_items_dataset.csv\")\n",
    "order_payments = pd.read_csv(\"olist_order_payments_dataset.csv\")\n",
    "order = pd.read_csv(\"olist_orders_dataset.csv\")\n",
    "products = pd.read_csv(\"olist_products_dataset.csv\")\n",
    "product_category_name = pd.read_csv(\"product_category_name_translation.csv\")\n",
    "reviews = pd.read_csv(\"olist_order_reviews_dataset.csv\")\n",
    "sellers  = pd.read_csv(\"olist_sellers_dataset.csv\")\n"
   ]
  },
  {
   "cell_type": "code",
   "execution_count": null,
   "metadata": {},
   "outputs": [],
   "source": [
    "# Merging Dataframes\n",
    "df = order.merge(order_items, on='order_id', how='inner')\n",
    "df = df.merge(order_payments, on='order_id', how='inner', validate='m:m')\n",
    "df = df.merge(reviews, on='order_id', how='inner')\n",
    "df = df.merge(products, on='product_id', how='inner')\n",
    "df = df.merge(customers, on='customer_id', how='inner')\n",
    "df = df.merge(sellers, on='seller_id', how='inner')"
   ]
  },
  {
   "cell_type": "markdown",
   "metadata": {},
   "source": [
    "## EDA"
   ]
  },
  {
   "cell_type": "code",
   "execution_count": null,
   "metadata": {},
   "outputs": [],
   "source": [
    "df.head()"
   ]
  },
  {
   "cell_type": "code",
   "execution_count": null,
   "metadata": {},
   "outputs": [],
   "source": [
    "print(df.shape)\n",
    "df.info()"
   ]
  },
  {
   "cell_type": "code",
   "execution_count": null,
   "metadata": {},
   "outputs": [],
   "source": [
    "df.isna().sum()"
   ]
  },
  {
   "cell_type": "code",
   "execution_count": null,
   "metadata": {},
   "outputs": [],
   "source": [
    "# order_purchase_timestamp\n",
    "# order_delivered_customer_date\n",
    "\n",
    "df['order_purchase_timestamp'] = pd.to_datetime(df['order_purchase_timestamp'])\n",
    "df['order_delivered_customer_date'] = pd.to_datetime(df['order_delivered_customer_date'])"
   ]
  },
  {
   "cell_type": "code",
   "execution_count": null,
   "metadata": {},
   "outputs": [],
   "source": [
    "# extracting day, week ,Month like features from these columns\n",
    "\n",
    "df['order_purchase_day'] = df['order_purchase_timestamp'].dt.day\n",
    "df['order_purchase_month'] = df['order_purchase_timestamp'].dt.month\n",
    "df['order_purchase_week'] = df['order_purchase_timestamp'].dt.isocalendar().week\n",
    "df['order_purchase_weekday'] = df['order_purchase_timestamp'].dt.weekday+1 # i here represents Monday\n",
    "df['order_purchase_year'] = df['order_purchase_timestamp'].dt.year\n",
    "\n",
    "# calculating the delivery time - \n",
    "\n",
    "df['Delivery_time'] = (df['order_delivered_customer_date']-df['order_purchase_timestamp']).dt.days # in terms of Number of Days"
   ]
  },
  {
   "cell_type": "code",
   "execution_count": null,
   "metadata": {},
   "outputs": [],
   "source": [
    "df.head()"
   ]
  },
  {
   "cell_type": "code",
   "execution_count": null,
   "metadata": {},
   "outputs": [],
   "source": [
    "# what can we do here\n",
    "\n",
    "monthly_sales = df.groupby(df['order_purchase_timestamp'].dt.to_period('M')).agg({'price' : 'sum'})\n",
    "\n",
    "#plotting the monthly sales\n",
    "plt.figure(figsize=(9,8))\n",
    "\n",
    "plt.plot(monthly_sales.index.astype(str),monthly_sales['price'], \n",
    "         marker='o', linestyle='-', color='blue', linewidth=2)\n",
    "\n",
    "# Adding titles and labels\n",
    "plt.title('Monthly Sales Trend', fontsize=16, fontweight='bold')\n",
    "plt.xlabel('Month', fontsize=14)\n",
    "plt.ylabel('Total Sales', fontsize=14)\n",
    "\n",
    "# Customize the ticks\n",
    "plt.xticks(rotation=45, fontsize=12)\n",
    "plt.yticks(fontsize=12)\n",
    "\n",
    "plt.tight_layout()\n",
    "plt.show()"
   ]
  },
  {
   "cell_type": "code",
   "execution_count": null,
   "metadata": {},
   "outputs": [],
   "source": [
    "# Total Sales by product category\n",
    "\n",
    "sales_by_area = df.groupby('customer_state')['order_id'].count()\n",
    "\n",
    "plt.figure(figsize=(15,8))\n",
    "\n",
    "sales_by_area.plot(kind='bar', color = 'blue',edgecolor='black')\n",
    "\n",
    "# Adding title\n",
    "plt.title('Sales Distribution by State', fontsize=16, fontweight='bold')\n",
    "\n",
    "# Hide the y-label for better aesthetics\n",
    "plt.ylabel('')\n",
    "plt.xticks(rotation=45, fontsize=12)\n",
    "# Add gridlines\n",
    "plt.grid(axis='y', linestyle='--', alpha=0.7)\n",
    "\n",
    "plt.tight_layout()\n",
    "plt.show()\n",
    "plt.tight_layout()\n",
    "plt.show()"
   ]
  },
  {
   "cell_type": "code",
   "execution_count": null,
   "metadata": {},
   "outputs": [],
   "source": [
    "# Set the figure size\n",
    "plt.figure(figsize=(8, 8))\n",
    "\n",
    "sales_by_payment = df.groupby('payment_type')['price'].sum()\n",
    "sales_by_payment.plot(kind='pie', autopct='%1.1f%%', startangle=90)\n",
    "\n",
    "# Adding title\n",
    "plt.title('Sales Distribution by Payment Type', fontsize=16, fontweight='bold')\n",
    "\n",
    "# Hide the y-label for better aesthetics\n",
    "plt.ylabel('')\n",
    "\n",
    "plt.tight_layout()\n",
    "plt.show()"
   ]
  },
  {
   "cell_type": "code",
   "execution_count": null,
   "metadata": {},
   "outputs": [],
   "source": [
    "# pllotiing a delivery time \n",
    "plt.figure(figsize=(8, 6))\n",
    "sns.violinplot(x=df['Delivery_time'], color='lightblue')\n",
    "plt.title('Violin Plot of Delivery Time')\n",
    "plt.xlabel('Delivery Time')\n",
    "plt.show()"
   ]
  },
  {
   "cell_type": "code",
   "execution_count": null,
   "metadata": {},
   "outputs": [],
   "source": [
    "plt.figure(figsize=(8, 6))\n",
    "\n",
    "# Plot the histogram\n",
    "sns.histplot(df['Delivery_time'], bins=50, kde=True, color='blue', edgecolor='black')\n",
    "\n",
    "# Add title and labels\n",
    "plt.title('Combined Histogram and Density Plot of Delivery Time')\n",
    "plt.xlabel('Delivery Time')\n",
    "plt.ylabel('Frequency/Density')\n",
    "\n",
    "# Show the plot\n",
    "plt.show()"
   ]
  },
  {
   "cell_type": "code",
   "execution_count": null,
   "metadata": {},
   "outputs": [],
   "source": [
    "# plotting the delivery time for each month - column -> order_purchase_month\n",
    "\n",
    "month_delivery_time_avg = df.groupby('order_purchase_month')['Delivery_time'].mean().reset_index()\n",
    "\n",
    "# Plot\n",
    "plt.figure(figsize=(12, 6))\n",
    "sns.barplot(x='order_purchase_month', y='Delivery_time', data=month_delivery_time_avg)\n",
    "plt.title('Average Delivery Time by Month', fontsize=16, fontweight='bold')\n",
    "plt.xlabel('Month-Year', fontsize=14)\n",
    "plt.ylabel('Average Delivery Time (Days)', fontsize=14)\n",
    "plt.xticks(rotation=45)\n",
    "plt.grid(axis='y', linestyle='--', alpha=0.7)\n",
    "plt.tight_layout()\n",
    "plt.show()\n"
   ]
  },
  {
   "cell_type": "markdown",
   "metadata": {},
   "source": [
    "## REF Analysis"
   ]
  },
  {
   "cell_type": "code",
   "execution_count": null,
   "metadata": {},
   "outputs": [],
   "source": [
    "# for checking data type\n",
    "df.info()"
   ]
  },
  {
   "cell_type": "code",
   "execution_count": null,
   "metadata": {},
   "outputs": [],
   "source": [
    "# to check what is the most recent date on which an order was placed - the refrence date should be ahead of this date\n",
    "\n",
    "df['order_purchase_timestamp'].max()"
   ]
  },
  {
   "cell_type": "code",
   "execution_count": null,
   "metadata": {},
   "outputs": [],
   "source": [
    "# the last date for purchase in the data set is 2018-03-08 - this was done to create a benchmark for calculating the recency factor\n",
    "\n",
    "# thus defining the refrence data\n",
    "\n",
    "reference_date = datetime(2018, 12, 31) # this is the date from which we will calculate the recency analysis -  let assume that this was the day that analysis was done\n",
    "\n",
    "recency_df = df.groupby('customer_id')['order_purchase_timestamp'].max().reset_index()\n",
    "\n",
    "recency_df['Recency'] = (reference_date-recency_df['order_purchase_timestamp']).dt.days\n",
    "\n",
    "recency_df.head()\n"
   ]
  },
  {
   "cell_type": "code",
   "execution_count": null,
   "metadata": {},
   "outputs": [],
   "source": [
    "# calculating the frequncy - the number of orders purchased by the customer\n",
    "\n",
    "frequency_df = df.groupby('customer_id')['order_id'].nunique().reset_index()\n",
    "frequency_df.columns = ['customer_id', 'Frequency']\n",
    "frequency_df.head()"
   ]
  },
  {
   "cell_type": "code",
   "execution_count": null,
   "metadata": {},
   "outputs": [],
   "source": [
    "# caculaating the monetary value for each customer\n",
    "\n",
    "value_df = df.groupby(\"customer_id\")['price'].sum().reset_index()\n",
    "value_df.columns = ['customer_id', 'Monetary Value']\n",
    "value_df.head()"
   ]
  },
  {
   "cell_type": "code",
   "execution_count": null,
   "metadata": {},
   "outputs": [],
   "source": [
    "#merge the values\n",
    "\n",
    "ref_metrics = recency_df.merge(frequency_df, on =\"customer_id\")\n",
    "ref_metrics  = ref_metrics.merge(value_df, on=\"customer_id\")\n",
    "ref_metrics.head()"
   ]
  },
  {
   "cell_type": "markdown",
   "metadata": {},
   "source": [
    "### K Mean Clustering"
   ]
  },
  {
   "cell_type": "code",
   "execution_count": null,
   "metadata": {},
   "outputs": [],
   "source": [
    "from sklearn.cluster import KMeans\n",
    "from sklearn.preprocessing import StandardScaler\n",
    "\n",
    "# Scale the RFM values\n",
    "scaler = StandardScaler()\n",
    "rfm_scaled = scaler.fit_transform(ref_metrics[['Recency', 'Frequency', 'Monetary Value']])\n",
    "\n",
    "# Apply K-Means\n",
    "kmeans = KMeans(n_clusters=4, random_state=42)\n",
    "ref_metrics['Cluster'] = kmeans.fit_predict(rfm_scaled)\n",
    "\n",
    "# View cluster distributions\n",
    "cluster_counts = ref_metrics['Cluster'].value_counts()\n"
   ]
  },
  {
   "cell_type": "code",
   "execution_count": null,
   "metadata": {},
   "outputs": [],
   "source": [
    "from mpl_toolkits.mplot3d import Axes3D\n",
    "\n",
    "fig = plt.figure(figsize=(10, 8))\n",
    "ax = fig.add_subplot(111, projection='3d')\n",
    "\n",
    "# 3D scatter plot\n",
    "scatter = ax.scatter(\n",
    "    ref_metrics['Recency'], \n",
    "    ref_metrics['Frequency'], \n",
    "    ref_metrics['Monetary Value'], \n",
    "    c=ref_metrics['Cluster'], \n",
    "    cmap='viridis', \n",
    "    s=100, alpha=0.7\n",
    ")\n",
    "\n",
    "# Labels and title\n",
    "ax.set_title('RFM Clusters - 3D Visualization')\n",
    "ax.set_xlabel('Recency')\n",
    "ax.set_ylabel('Frequency')\n",
    "ax.set_zlabel('Monetary')\n",
    "plt.colorbar(scatter, label='Cluster')\n",
    "plt.show()\n"
   ]
  },
  {
   "cell_type": "code",
   "execution_count": null,
   "metadata": {},
   "outputs": [],
   "source": [
    "# plotting the clusters using Plotly\n",
    "fig = px.scatter_3d(\n",
    "    ref_metrics, \n",
    "    x='Recency', \n",
    "    y='Frequency', \n",
    "    z='Monetary Value', \n",
    "    color='Cluster', \n",
    "    title='RFM Clusters - 3D Visualization',\n",
    "    size_max=10,\n",
    "    opacity=0.7\n",
    ")\n",
    "fig.show()\n"
   ]
  }
 ],
 "metadata": {
  "kernelspec": {
   "display_name": "Python 3",
   "language": "python",
   "name": "python3"
  },
  "language_info": {
   "codemirror_mode": {
    "name": "ipython",
    "version": 3
   },
   "file_extension": ".py",
   "mimetype": "text/x-python",
   "name": "python",
   "nbconvert_exporter": "python",
   "pygments_lexer": "ipython3",
   "version": "3.12.4"
  }
 },
 "nbformat": 4,
 "nbformat_minor": 2
}
